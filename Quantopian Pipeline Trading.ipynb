{
 "cells": [
  {
   "cell_type": "markdown",
   "metadata": {},
   "source": [
    "### Quantopian Pipelines Filters"
   ]
  },
  {
   "cell_type": "code",
   "execution_count": 1,
   "metadata": {},
   "outputs": [],
   "source": [
    "from quantopian.pipeline import Pipeline"
   ]
  },
  {
   "cell_type": "code",
   "execution_count": 2,
   "metadata": {},
   "outputs": [],
   "source": [
    "def make_pipeline():\n",
    "    return Pipeline()"
   ]
  },
  {
   "cell_type": "code",
   "execution_count": 3,
   "metadata": {},
   "outputs": [],
   "source": [
    "pipe = make_pipeline()"
   ]
  },
  {
   "cell_type": "code",
   "execution_count": 4,
   "metadata": {},
   "outputs": [],
   "source": [
    "from quantopian.research import run_pipeline"
   ]
  },
  {
   "cell_type": "code",
   "execution_count": 5,
   "metadata": {},
   "outputs": [
    {
     "data": {
      "application/vnd.jupyter.widget-view+json": {
       "model_id": "",
       "version_major": 2,
       "version_minor": 0
      },
      "text/plain": []
     },
     "metadata": {},
     "output_type": "display_data"
    },
    {
     "data": {
      "text/html": [
       "<b>Pipeline Execution Time:</b> 1.89 Seconds"
      ],
      "text/plain": [
       "<IPython.core.display.HTML object>"
      ]
     },
     "metadata": {},
     "output_type": "display_data"
    }
   ],
   "source": [
    "result = run_pipeline(pipe,'2017-01-03','2020-01-06')"
   ]
  },
  {
   "cell_type": "code",
   "execution_count": 6,
   "metadata": {},
   "outputs": [],
   "source": [
    "from quantopian.pipeline.data.builtin import USEquityPricing\n",
    "from quantopian.pipeline.factors import SimpleMovingAverage"
   ]
  },
  {
   "cell_type": "code",
   "execution_count": 7,
   "metadata": {},
   "outputs": [
    {
     "data": {
      "text/plain": [
       "SimpleMovingAverage([EquityPricing<US>.close], 30)"
      ]
     },
     "execution_count": 7,
     "metadata": {},
     "output_type": "execute_result"
    }
   ],
   "source": [
    "SimpleMovingAverage(inputs=[USEquityPricing.close],window_length=30)"
   ]
  },
  {
   "cell_type": "code",
   "execution_count": 8,
   "metadata": {},
   "outputs": [],
   "source": [
    "def make_pipeline():\n",
    "    \n",
    "    latest_close = USEquityPricing.close.latest\n",
    "    small_price = latest_close < 5\n",
    "    \n",
    "    mean_close_30 = SimpleMovingAverage(inputs=[USEquityPricing.close],window_length=30,mask=small_price)\n",
    "    mean_close_10 = SimpleMovingAverage(inputs=[USEquityPricing.close],window_length=10,mask=small_price)\n",
    "    \n",
    "    percent_difference = (mean_close_10 - mean_close_30) / mean_close_30\n",
    "    \n",
    "    perc_filter = percent_difference > 0\n",
    "    \n",
    "    # COMBINE FILTERS\n",
    "    final_filter = perc_filter & small_price\n",
    "    \n",
    "    return Pipeline(columns={'30 Day Mean Close':mean_close_30,\n",
    "                             'Percent Difference':percent_difference,\n",
    "                            'Latest Close':latest_close,\n",
    "                            'Percent Filter':perc_filter\n",
    "                            },screen=final_filter)"
   ]
  },
  {
   "cell_type": "code",
   "execution_count": 9,
   "metadata": {},
   "outputs": [
    {
     "data": {
      "application/vnd.jupyter.widget-view+json": {
       "model_id": "",
       "version_major": 2,
       "version_minor": 0
      },
      "text/plain": []
     },
     "metadata": {},
     "output_type": "display_data"
    },
    {
     "data": {
      "text/html": [
       "<b>Pipeline Execution Time:</b> 0.87 Seconds"
      ],
      "text/plain": [
       "<IPython.core.display.HTML object>"
      ]
     },
     "metadata": {},
     "output_type": "display_data"
    },
    {
     "data": {
      "text/html": [
       "<div>\n",
       "<table border=\"1\" class=\"dataframe\">\n",
       "  <thead>\n",
       "    <tr style=\"text-align: right;\">\n",
       "      <th></th>\n",
       "      <th></th>\n",
       "      <th>30 Day Mean Close</th>\n",
       "      <th>Latest Close</th>\n",
       "      <th>Percent Difference</th>\n",
       "      <th>Percent Filter</th>\n",
       "    </tr>\n",
       "  </thead>\n",
       "  <tbody>\n",
       "    <tr>\n",
       "      <th rowspan=\"5\" valign=\"top\">2020-07-06 00:00:00+00:00</th>\n",
       "      <th>Equity(117 [AEY])</th>\n",
       "      <td>2.645667</td>\n",
       "      <td>3.220</td>\n",
       "      <td>0.082147</td>\n",
       "      <td>True</td>\n",
       "    </tr>\n",
       "    <tr>\n",
       "      <th>Equity(157 [AEG])</th>\n",
       "      <td>2.946100</td>\n",
       "      <td>3.010</td>\n",
       "      <td>0.000407</td>\n",
       "      <td>True</td>\n",
       "    </tr>\n",
       "    <tr>\n",
       "      <th>Equity(392 [AMS])</th>\n",
       "      <td>2.074433</td>\n",
       "      <td>2.110</td>\n",
       "      <td>0.057831</td>\n",
       "      <td>True</td>\n",
       "    </tr>\n",
       "    <tr>\n",
       "      <th>Equity(535 [ARTW])</th>\n",
       "      <td>2.290200</td>\n",
       "      <td>2.460</td>\n",
       "      <td>0.057899</td>\n",
       "      <td>True</td>\n",
       "    </tr>\n",
       "    <tr>\n",
       "      <th>Equity(680 [AXR])</th>\n",
       "      <td>4.492038</td>\n",
       "      <td>4.682</td>\n",
       "      <td>0.009069</td>\n",
       "      <td>True</td>\n",
       "    </tr>\n",
       "  </tbody>\n",
       "</table>\n",
       "</div>"
      ],
      "text/plain": [
       "                                              30 Day Mean Close  Latest Close  \\\n",
       "2020-07-06 00:00:00+00:00 Equity(117 [AEY])            2.645667         3.220   \n",
       "                          Equity(157 [AEG])            2.946100         3.010   \n",
       "                          Equity(392 [AMS])            2.074433         2.110   \n",
       "                          Equity(535 [ARTW])           2.290200         2.460   \n",
       "                          Equity(680 [AXR])            4.492038         4.682   \n",
       "\n",
       "                                              Percent Difference  \\\n",
       "2020-07-06 00:00:00+00:00 Equity(117 [AEY])             0.082147   \n",
       "                          Equity(157 [AEG])             0.000407   \n",
       "                          Equity(392 [AMS])             0.057831   \n",
       "                          Equity(535 [ARTW])            0.057899   \n",
       "                          Equity(680 [AXR])             0.009069   \n",
       "\n",
       "                                             Percent Filter  \n",
       "2020-07-06 00:00:00+00:00 Equity(117 [AEY])            True  \n",
       "                          Equity(157 [AEG])            True  \n",
       "                          Equity(392 [AMS])            True  \n",
       "                          Equity(535 [ARTW])           True  \n",
       "                          Equity(680 [AXR])            True  "
      ]
     },
     "execution_count": 9,
     "metadata": {},
     "output_type": "execute_result"
    }
   ],
   "source": [
    "results = run_pipeline(make_pipeline(),'2020-07-06','2020-07-06')\n",
    "results.head()"
   ]
  },
  {
   "cell_type": "code",
   "execution_count": 10,
   "metadata": {},
   "outputs": [
    {
     "name": "stdout",
     "output_type": "stream",
     "text": [
      "<class 'pandas.core.frame.DataFrame'>\n",
      "MultiIndex: 718 entries, (2020-07-06 00:00:00+00:00, Equity(117 [AEY])) to (2020-07-06 00:00:00+00:00, Equity(54258 [IPOC_WS]))\n",
      "Data columns (total 4 columns):\n",
      "30 Day Mean Close     718 non-null float64\n",
      "Latest Close          718 non-null float64\n",
      "Percent Difference    718 non-null float64\n",
      "Percent Filter        718 non-null bool\n",
      "dtypes: bool(1), float64(3)\n",
      "memory usage: 23.1+ KB\n"
     ]
    }
   ],
   "source": [
    "results.info()"
   ]
  },
  {
   "cell_type": "markdown",
   "metadata": {},
   "source": [
    "### Quantopian Pipelines Masking and Classifiers\n",
    "Masking allows us to tell pipeline to ignore assets all together, before the factors or filters even really take place\n",
    "\n",
    "We can pass in the mask parameter to both factors and filters\n",
    "\n",
    "Classifiers take in an asset and a timestamp and return a categorical value, such as a sector or an exchange"
   ]
  },
  {
   "cell_type": "code",
   "execution_count": 11,
   "metadata": {},
   "outputs": [],
   "source": [
    "from quantopian.pipeline.data import morningstar\n",
    "from quantopian.pipeline.classifiers.morningstar import Sector"
   ]
  },
  {
   "cell_type": "code",
   "execution_count": 12,
   "metadata": {},
   "outputs": [],
   "source": [
    "morningstart_sector = Sector()"
   ]
  },
  {
   "cell_type": "code",
   "execution_count": 13,
   "metadata": {},
   "outputs": [],
   "source": [
    "exchange = morningstar.share_class_reference.exchange_id.latest"
   ]
  },
  {
   "cell_type": "code",
   "execution_count": 14,
   "metadata": {},
   "outputs": [],
   "source": [
    "nyse_filter = exchange.eq('NYS')"
   ]
  },
  {
   "cell_type": "code",
   "execution_count": 15,
   "metadata": {},
   "outputs": [],
   "source": [
    "def make_pipeline():\n",
    "    \n",
    "    latest_close = USEquityPricing.close.latest\n",
    "    small_price = latest_close < 5\n",
    "    \n",
    "    # CLASSIFIER\n",
    "    nyse_filter = exchange.eq('NYS')\n",
    "    \n",
    "    mean_close_30 = SimpleMovingAverage(inputs=[USEquityPricing.close],window_length=30,mask=small_price)\n",
    "    mean_close_10 = SimpleMovingAverage(inputs=[USEquityPricing.close],window_length=10,mask=small_price)\n",
    "    \n",
    "    percent_difference = (mean_close_10 - mean_close_30) / mean_close_30\n",
    "    \n",
    "    perc_diff_check = percent_difference > 0\n",
    "    \n",
    "    # COMBINE FILTERS\n",
    "    final_filter = perc_diff_check & nyse_filter\n",
    "    \n",
    "    return Pipeline(columns={'30 Day Mean Close':mean_close_30,\n",
    "                             'Percent Difference':percent_difference,\n",
    "                            'Latest Close':latest_close,\n",
    "                            'Percent Filter':perc_diff_check\n",
    "                            },screen=final_filter)"
   ]
  },
  {
   "cell_type": "code",
   "execution_count": 16,
   "metadata": {},
   "outputs": [
    {
     "data": {
      "application/vnd.jupyter.widget-view+json": {
       "model_id": "",
       "version_major": 2,
       "version_minor": 0
      },
      "text/plain": []
     },
     "metadata": {},
     "output_type": "display_data"
    },
    {
     "data": {
      "text/html": [
       "<b>Pipeline Execution Time:</b> 2.46 Seconds"
      ],
      "text/plain": [
       "<IPython.core.display.HTML object>"
      ]
     },
     "metadata": {},
     "output_type": "display_data"
    },
    {
     "data": {
      "text/html": [
       "<div>\n",
       "<table border=\"1\" class=\"dataframe\">\n",
       "  <thead>\n",
       "    <tr style=\"text-align: right;\">\n",
       "      <th></th>\n",
       "      <th></th>\n",
       "      <th>30 Day Mean Close</th>\n",
       "      <th>Latest Close</th>\n",
       "      <th>Percent Difference</th>\n",
       "      <th>Percent Filter</th>\n",
       "    </tr>\n",
       "  </thead>\n",
       "  <tbody>\n",
       "    <tr>\n",
       "      <th rowspan=\"5\" valign=\"top\">2020-07-06 00:00:00+00:00</th>\n",
       "      <th>Equity(157 [AEG])</th>\n",
       "      <td>2.946100</td>\n",
       "      <td>3.010</td>\n",
       "      <td>0.000407</td>\n",
       "      <td>True</td>\n",
       "    </tr>\n",
       "    <tr>\n",
       "      <th>Equity(680 [AXR])</th>\n",
       "      <td>4.492038</td>\n",
       "      <td>4.682</td>\n",
       "      <td>0.009069</td>\n",
       "      <td>True</td>\n",
       "    </tr>\n",
       "    <tr>\n",
       "      <th>Equity(753 [BBVA])</th>\n",
       "      <td>3.407867</td>\n",
       "      <td>3.540</td>\n",
       "      <td>0.002416</td>\n",
       "      <td>True</td>\n",
       "    </tr>\n",
       "    <tr>\n",
       "      <th>Equity(2035 [CX])</th>\n",
       "      <td>2.721500</td>\n",
       "      <td>2.820</td>\n",
       "      <td>0.042072</td>\n",
       "      <td>True</td>\n",
       "    </tr>\n",
       "    <tr>\n",
       "      <th>Equity(2036 [CXE])</th>\n",
       "      <td>4.588184</td>\n",
       "      <td>4.600</td>\n",
       "      <td>0.010421</td>\n",
       "      <td>True</td>\n",
       "    </tr>\n",
       "  </tbody>\n",
       "</table>\n",
       "</div>"
      ],
      "text/plain": [
       "                                              30 Day Mean Close  Latest Close  \\\n",
       "2020-07-06 00:00:00+00:00 Equity(157 [AEG])            2.946100         3.010   \n",
       "                          Equity(680 [AXR])            4.492038         4.682   \n",
       "                          Equity(753 [BBVA])           3.407867         3.540   \n",
       "                          Equity(2035 [CX])            2.721500         2.820   \n",
       "                          Equity(2036 [CXE])           4.588184         4.600   \n",
       "\n",
       "                                              Percent Difference  \\\n",
       "2020-07-06 00:00:00+00:00 Equity(157 [AEG])             0.000407   \n",
       "                          Equity(680 [AXR])             0.009069   \n",
       "                          Equity(753 [BBVA])            0.002416   \n",
       "                          Equity(2035 [CX])             0.042072   \n",
       "                          Equity(2036 [CXE])            0.010421   \n",
       "\n",
       "                                             Percent Filter  \n",
       "2020-07-06 00:00:00+00:00 Equity(157 [AEG])            True  \n",
       "                          Equity(680 [AXR])            True  \n",
       "                          Equity(753 [BBVA])           True  \n",
       "                          Equity(2035 [CX])            True  \n",
       "                          Equity(2036 [CXE])           True  "
      ]
     },
     "execution_count": 16,
     "metadata": {},
     "output_type": "execute_result"
    }
   ],
   "source": [
    "results = run_pipeline(make_pipeline(),'2020-07-06','2020-07-06')\n",
    "results.head()"
   ]
  },
  {
   "cell_type": "code",
   "execution_count": 17,
   "metadata": {},
   "outputs": [
    {
     "name": "stdout",
     "output_type": "stream",
     "text": [
      "<class 'pandas.core.frame.DataFrame'>\n",
      "MultiIndex: 109 entries, (2020-07-06 00:00:00+00:00, Equity(157 [AEG])) to (2020-07-06 00:00:00+00:00, Equity(53294 [LINX]))\n",
      "Data columns (total 4 columns):\n",
      "30 Day Mean Close     109 non-null float64\n",
      "Latest Close          109 non-null float64\n",
      "Percent Difference    109 non-null float64\n",
      "Percent Filter        109 non-null bool\n",
      "dtypes: bool(1), float64(3)\n",
      "memory usage: 3.5+ KB\n"
     ]
    }
   ],
   "source": [
    "results.info()"
   ]
  },
  {
   "cell_type": "markdown",
   "metadata": {},
   "source": [
    "### Pipeline Example"
   ]
  },
  {
   "cell_type": "code",
   "execution_count": 18,
   "metadata": {},
   "outputs": [],
   "source": [
    "from quantopian.pipeline.filters import Q1500US"
   ]
  },
  {
   "cell_type": "code",
   "execution_count": 19,
   "metadata": {},
   "outputs": [],
   "source": [
    "universe = Q1500US()"
   ]
  },
  {
   "cell_type": "code",
   "execution_count": 20,
   "metadata": {},
   "outputs": [],
   "source": [
    "from quantopian.pipeline.data import morningstar"
   ]
  },
  {
   "cell_type": "code",
   "execution_count": 22,
   "metadata": {},
   "outputs": [],
   "source": [
    "sector = morningstar.asset_classification.morningstar_sector_code.latest"
   ]
  },
  {
   "cell_type": "code",
   "execution_count": 23,
   "metadata": {},
   "outputs": [],
   "source": [
    "energy_sector = sector.eq(309)"
   ]
  },
  {
   "cell_type": "code",
   "execution_count": 25,
   "metadata": {},
   "outputs": [],
   "source": [
    "from quantopian.pipeline.factors import SimpleMovingAverage,AverageDollarVolume"
   ]
  },
  {
   "cell_type": "code",
   "execution_count": 26,
   "metadata": {},
   "outputs": [],
   "source": [
    "dollar_volume = AverageDollarVolume(window_length=30)"
   ]
  },
  {
   "cell_type": "code",
   "execution_count": 27,
   "metadata": {},
   "outputs": [
    {
     "data": {
      "text/plain": [
       "NumExprFilter(expr='x_0 <= (5.0)', bindings={'x_0': Rank(AverageDollarVolume(...), method='ordinal')})"
      ]
     },
     "execution_count": 27,
     "metadata": {},
     "output_type": "execute_result"
    }
   ],
   "source": [
    "dollar_volume.top(5)"
   ]
  },
  {
   "cell_type": "code",
   "execution_count": 28,
   "metadata": {},
   "outputs": [],
   "source": [
    "high_dollar_volume = dollar_volume.percentile_between(90,100)"
   ]
  },
  {
   "cell_type": "code",
   "execution_count": 29,
   "metadata": {},
   "outputs": [],
   "source": [
    "top_open_prices = USEquityPricing.open.latest.top(50,mask=high_dollar_volume)"
   ]
  },
  {
   "cell_type": "code",
   "execution_count": 30,
   "metadata": {},
   "outputs": [],
   "source": [
    "high_close_price = USEquityPricing.close.latest.percentile_between(90,100,mask=top_open_prices)"
   ]
  },
  {
   "cell_type": "code",
   "execution_count": 33,
   "metadata": {},
   "outputs": [],
   "source": [
    "def make_pipeline():\n",
    "    \n",
    "    # Universe Q1500US\n",
    "    base_universe = Q1500US()\n",
    "    \n",
    "    # Energy Sector\n",
    "    energy_sector = sector.eq(309)\n",
    "    \n",
    "    # Make Mask of 1500US and Energy\n",
    "    base_energy = base_universe & energy_sector\n",
    "    \n",
    "    # Dollar Volume (30 Days) Grab the Info\n",
    "    dollar_volume = AverageDollarVolume(window_length=30)\n",
    "    \n",
    "    # Grab the top 5% in avg dollar volume\n",
    "    high_dollar_volume = dollar_volume.percentile_between(95,100)\n",
    "    \n",
    "    # Combine the filters\n",
    "    top_five_base_energy = base_energy & high_dollar_volume\n",
    "    \n",
    "    # 10 Day mean close\n",
    "    mean_10 = SimpleMovingAverage(inputs=[USEquityPricing.close],window_length=10,mask=top_five_base_energy)\n",
    "    \n",
    "    # 30 Day mean close\n",
    "    mean_30 = SimpleMovingAverage(inputs=[USEquityPricing.close],window_length=30,mask=top_five_base_energy)\n",
    "    \n",
    "    # Percent Difference\n",
    "    percent_difference = (mean_10-mean_30)/mean_30\n",
    "    \n",
    "    # List of Shorts\n",
    "    shorts = percent_difference < 0\n",
    "    \n",
    "    # List of Longs\n",
    "    longs = percent_difference > 0\n",
    "    \n",
    "    # Final Mask/Filter for anything in shorts or longs\n",
    "    securities_to_trade = (shorts | longs)\n",
    "    \n",
    "    # Return Pipeline\n",
    "    return Pipeline(columns={\n",
    "        'longs':longs,\n",
    "        'shorts':shorts,\n",
    "        'perc_diff':percent_difference\n",
    "    },screen=securities_to_trade)"
   ]
  },
  {
   "cell_type": "code",
   "execution_count": 34,
   "metadata": {},
   "outputs": [
    {
     "data": {
      "application/vnd.jupyter.widget-view+json": {
       "model_id": "",
       "version_major": 2,
       "version_minor": 0
      },
      "text/plain": []
     },
     "metadata": {},
     "output_type": "display_data"
    },
    {
     "data": {
      "text/html": [
       "<b>Pipeline Execution Time:</b> 4.55 Seconds"
      ],
      "text/plain": [
       "<IPython.core.display.HTML object>"
      ]
     },
     "metadata": {},
     "output_type": "display_data"
    },
    {
     "data": {
      "text/html": [
       "<div>\n",
       "<table border=\"1\" class=\"dataframe\">\n",
       "  <thead>\n",
       "    <tr style=\"text-align: right;\">\n",
       "      <th></th>\n",
       "      <th></th>\n",
       "      <th>longs</th>\n",
       "      <th>perc_diff</th>\n",
       "      <th>shorts</th>\n",
       "    </tr>\n",
       "  </thead>\n",
       "  <tbody>\n",
       "    <tr>\n",
       "      <th rowspan=\"16\" valign=\"top\">2020-07-29 00:00:00+00:00</th>\n",
       "      <th>Equity(448 [APA])</th>\n",
       "      <td>True</td>\n",
       "      <td>0.027305</td>\n",
       "      <td>False</td>\n",
       "    </tr>\n",
       "    <tr>\n",
       "      <th>Equity(2564 [EOG])</th>\n",
       "      <td>False</td>\n",
       "      <td>-0.012486</td>\n",
       "      <td>True</td>\n",
       "    </tr>\n",
       "    <tr>\n",
       "      <th>Equity(3443 [HAL])</th>\n",
       "      <td>True</td>\n",
       "      <td>0.073536</td>\n",
       "      <td>False</td>\n",
       "    </tr>\n",
       "    <tr>\n",
       "      <th>Equity(5035 [MRO])</th>\n",
       "      <td>False</td>\n",
       "      <td>-0.028775</td>\n",
       "      <td>True</td>\n",
       "    </tr>\n",
       "    <tr>\n",
       "      <th>Equity(5213 [NBL])</th>\n",
       "      <td>True</td>\n",
       "      <td>0.072949</td>\n",
       "      <td>False</td>\n",
       "    </tr>\n",
       "    <tr>\n",
       "      <th>Equity(5634 [OKE])</th>\n",
       "      <td>False</td>\n",
       "      <td>-0.061510</td>\n",
       "      <td>True</td>\n",
       "    </tr>\n",
       "    <tr>\n",
       "      <th>Equity(5729 [OXY])</th>\n",
       "      <td>False</td>\n",
       "      <td>-0.053515</td>\n",
       "      <td>True</td>\n",
       "    </tr>\n",
       "    <tr>\n",
       "      <th>Equity(6928 [SLB])</th>\n",
       "      <td>True</td>\n",
       "      <td>0.021415</td>\n",
       "      <td>False</td>\n",
       "    </tr>\n",
       "    <tr>\n",
       "      <th>Equity(7990 [VLO])</th>\n",
       "      <td>False</td>\n",
       "      <td>-0.010547</td>\n",
       "      <td>True</td>\n",
       "    </tr>\n",
       "    <tr>\n",
       "      <th>Equity(8214 [WMB])</th>\n",
       "      <td>True</td>\n",
       "      <td>0.017902</td>\n",
       "      <td>False</td>\n",
       "    </tr>\n",
       "    <tr>\n",
       "      <th>Equity(8347 [XOM])</th>\n",
       "      <td>False</td>\n",
       "      <td>-0.012649</td>\n",
       "      <td>True</td>\n",
       "    </tr>\n",
       "    <tr>\n",
       "      <th>Equity(23112 [CVX])</th>\n",
       "      <td>True</td>\n",
       "      <td>0.006239</td>\n",
       "      <td>False</td>\n",
       "    </tr>\n",
       "    <tr>\n",
       "      <th>Equity(23998 [COP])</th>\n",
       "      <td>False</td>\n",
       "      <td>-0.016528</td>\n",
       "      <td>True</td>\n",
       "    </tr>\n",
       "    <tr>\n",
       "      <th>Equity(40852 [KMI])</th>\n",
       "      <td>False</td>\n",
       "      <td>-0.014793</td>\n",
       "      <td>True</td>\n",
       "    </tr>\n",
       "    <tr>\n",
       "      <th>Equity(41636 [MPC])</th>\n",
       "      <td>True</td>\n",
       "      <td>0.029647</td>\n",
       "      <td>False</td>\n",
       "    </tr>\n",
       "    <tr>\n",
       "      <th>Equity(42788 [PSX])</th>\n",
       "      <td>False</td>\n",
       "      <td>-0.040553</td>\n",
       "      <td>True</td>\n",
       "    </tr>\n",
       "  </tbody>\n",
       "</table>\n",
       "</div>"
      ],
      "text/plain": [
       "                                               longs  perc_diff shorts\n",
       "2020-07-29 00:00:00+00:00 Equity(448 [APA])     True   0.027305  False\n",
       "                          Equity(2564 [EOG])   False  -0.012486   True\n",
       "                          Equity(3443 [HAL])    True   0.073536  False\n",
       "                          Equity(5035 [MRO])   False  -0.028775   True\n",
       "                          Equity(5213 [NBL])    True   0.072949  False\n",
       "                          Equity(5634 [OKE])   False  -0.061510   True\n",
       "                          Equity(5729 [OXY])   False  -0.053515   True\n",
       "                          Equity(6928 [SLB])    True   0.021415  False\n",
       "                          Equity(7990 [VLO])   False  -0.010547   True\n",
       "                          Equity(8214 [WMB])    True   0.017902  False\n",
       "                          Equity(8347 [XOM])   False  -0.012649   True\n",
       "                          Equity(23112 [CVX])   True   0.006239  False\n",
       "                          Equity(23998 [COP])  False  -0.016528   True\n",
       "                          Equity(40852 [KMI])  False  -0.014793   True\n",
       "                          Equity(41636 [MPC])   True   0.029647  False\n",
       "                          Equity(42788 [PSX])  False  -0.040553   True"
      ]
     },
     "execution_count": 34,
     "metadata": {},
     "output_type": "execute_result"
    }
   ],
   "source": [
    "result = run_pipeline(make_pipeline(),'2020-07-29','2020-07-29')\n",
    "result"
   ]
  }
 ],
 "metadata": {
  "kernelspec": {
   "display_name": "Python 3.5",
   "language": "python",
   "name": "py35"
  },
  "language_info": {
   "codemirror_mode": {
    "name": "ipython",
    "version": 3
   },
   "file_extension": ".py",
   "mimetype": "text/x-python",
   "name": "python",
   "nbconvert_exporter": "python",
   "pygments_lexer": "ipython3",
   "version": "3.5.9"
  }
 },
 "nbformat": 4,
 "nbformat_minor": 2
}