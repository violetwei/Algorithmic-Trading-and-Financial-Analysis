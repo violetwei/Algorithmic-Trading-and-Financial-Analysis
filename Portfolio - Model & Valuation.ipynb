{
 "cells": [
  {
   "cell_type": "code",
   "execution_count": 1,
   "metadata": {},
   "outputs": [],
   "source": [
    "import numpy as np\n",
    "import pandas as pd\n",
    "import matplotlib.pyplot as plt\n",
    "import pandas_datareader as pdr\n",
    "\n",
    "from pandas.plotting import register_matplotlib_converters\n",
    "register_matplotlib_converters()"
   ]
  },
  {
   "cell_type": "code",
   "execution_count": 2,
   "metadata": {},
   "outputs": [],
   "source": [
    "# Portfolio theory is that some risk can be mitigated by mixing securities together, \n",
    "# which can allow investors to earn higher rate of return whilst reducing risk\n",
    "# Some investors favour safer returns with the expense of less change of exceptional returns"
   ]
  },
  {
   "cell_type": "code",
   "execution_count": 3,
   "metadata": {},
   "outputs": [],
   "source": [
    "# Load data, one year is approximate 252 days\n",
    "stocks = 'AAPL GLD'. split()\n",
    "df = pdr.get_data_yahoo(stocks, '2019-01-01')['Close']\n",
    "df = df[-253:]\n",
    "\n",
    "df_vol = pd.DataFrame()\n",
    "for stock in stocks:\n",
    "    if stock not in df_vol:\n",
    "        df_vol[stock] = np.log(df[stock]).diff() "
   ]
  },
  {
   "cell_type": "code",
   "execution_count": 4,
   "metadata": {},
   "outputs": [
    {
     "data": {
      "text/html": [
       "<div>\n",
       "<style scoped>\n",
       "    .dataframe tbody tr th:only-of-type {\n",
       "        vertical-align: middle;\n",
       "    }\n",
       "\n",
       "    .dataframe tbody tr th {\n",
       "        vertical-align: top;\n",
       "    }\n",
       "\n",
       "    .dataframe thead th {\n",
       "        text-align: right;\n",
       "    }\n",
       "</style>\n",
       "<table border=\"1\" class=\"dataframe\">\n",
       "  <thead>\n",
       "    <tr style=\"text-align: right;\">\n",
       "      <th></th>\n",
       "      <th>AAPL</th>\n",
       "      <th>GLD</th>\n",
       "    </tr>\n",
       "    <tr>\n",
       "      <th>Date</th>\n",
       "      <th></th>\n",
       "      <th></th>\n",
       "    </tr>\n",
       "  </thead>\n",
       "  <tbody>\n",
       "    <tr>\n",
       "      <th>2020-07-13</th>\n",
       "      <td>-0.004624</td>\n",
       "      <td>0.001240</td>\n",
       "    </tr>\n",
       "    <tr>\n",
       "      <th>2020-07-14</th>\n",
       "      <td>0.016413</td>\n",
       "      <td>0.004653</td>\n",
       "    </tr>\n",
       "    <tr>\n",
       "      <th>2020-07-15</th>\n",
       "      <td>0.006854</td>\n",
       "      <td>0.000881</td>\n",
       "    </tr>\n",
       "    <tr>\n",
       "      <th>2020-07-16</th>\n",
       "      <td>-0.012381</td>\n",
       "      <td>-0.009497</td>\n",
       "    </tr>\n",
       "    <tr>\n",
       "      <th>2020-07-17</th>\n",
       "      <td>-0.002022</td>\n",
       "      <td>0.008204</td>\n",
       "    </tr>\n",
       "  </tbody>\n",
       "</table>\n",
       "</div>"
      ],
      "text/plain": [
       "                AAPL       GLD\n",
       "Date                          \n",
       "2020-07-13 -0.004624  0.001240\n",
       "2020-07-14  0.016413  0.004653\n",
       "2020-07-15  0.006854  0.000881\n",
       "2020-07-16 -0.012381 -0.009497\n",
       "2020-07-17 -0.002022  0.008204"
      ]
     },
     "execution_count": 4,
     "metadata": {},
     "output_type": "execute_result"
    }
   ],
   "source": [
    "df_vol.tail()"
   ]
  },
  {
   "cell_type": "code",
   "execution_count": 5,
   "metadata": {},
   "outputs": [
    {
     "name": "stdout",
     "output_type": "stream",
     "text": [
      "0.16580957382346276\n",
      "0.028653813876512266\n"
     ]
    }
   ],
   "source": [
    "# Annualize variances, by multiplying daily variance by 252\n",
    "var_aapl = df_vol['AAPL'].var() * 252\n",
    "var_gld = df_vol['GLD'].var() * 252\n",
    "print(var_aapl)\n",
    "print(var_gld)"
   ]
  },
  {
   "cell_type": "markdown",
   "metadata": {},
   "source": [
    "## Construct a Portfolio"
   ]
  },
  {
   "cell_type": "code",
   "execution_count": 6,
   "metadata": {},
   "outputs": [],
   "source": [
    "# Weights: 90% apple, 10% gold\n",
    "# Expected Returns - (Apple 14%), Gold(7%)\n",
    "w_aapl =  .9\n",
    "w_gld = 1 - w_aapl\n",
    "exp_aapl = .14\n",
    "exp_gld = .07"
   ]
  },
  {
   "cell_type": "code",
   "execution_count": 7,
   "metadata": {},
   "outputs": [
    {
     "data": {
      "text/plain": [
       "0.13300000000000003"
      ]
     },
     "execution_count": 7,
     "metadata": {},
     "output_type": "execute_result"
    }
   ],
   "source": [
    "exp = w_aapl * exp_aapl + w_gld * exp_gld\n",
    "exp"
   ]
  },
  {
   "cell_type": "code",
   "execution_count": 8,
   "metadata": {},
   "outputs": [
    {
     "data": {
      "text/plain": [
       "0.001973758900128846"
      ]
     },
     "execution_count": 8,
     "metadata": {},
     "output_type": "execute_result"
    }
   ],
   "source": [
    "# Anualize the covariance\n",
    "cov = np.cov(df_vol['AAPL'][1:], df_vol['GLD'][1:])[0,1] * 252\n",
    "cov"
   ]
  },
  {
   "cell_type": "code",
   "execution_count": 9,
   "metadata": {},
   "outputs": [
    {
     "data": {
      "text/plain": [
       "0.3673521056667474"
      ]
     },
     "execution_count": 9,
     "metadata": {},
     "output_type": "execute_result"
    }
   ],
   "source": [
    "# Calculate std of Protfolio Based on weights (90% & 10%)\n",
    "port_std = np.sqrt(var_aapl * w_aapl **2 + var_gld * w_gld ** 2 + 2 * cov * w_aapl * w_gld)\n",
    "port_std"
   ]
  },
  {
   "cell_type": "markdown",
   "metadata": {},
   "source": [
    "## Analyze Results\n",
    "\n",
    "With 90% Apple & 10% gold\n",
    "\n",
    "- Expect return is 13.3%\n",
    "- Expected volatility is 36.7%"
   ]
  },
  {
   "cell_type": "code",
   "execution_count": 10,
   "metadata": {},
   "outputs": [
    {
     "data": {
      "text/html": [
       "<div>\n",
       "<style scoped>\n",
       "    .dataframe tbody tr th:only-of-type {\n",
       "        vertical-align: middle;\n",
       "    }\n",
       "\n",
       "    .dataframe tbody tr th {\n",
       "        vertical-align: top;\n",
       "    }\n",
       "\n",
       "    .dataframe thead th {\n",
       "        text-align: right;\n",
       "    }\n",
       "</style>\n",
       "<table border=\"1\" class=\"dataframe\">\n",
       "  <thead>\n",
       "    <tr style=\"text-align: right;\">\n",
       "      <th></th>\n",
       "      <th>weight_aapl</th>\n",
       "      <th>exp_ret</th>\n",
       "      <th>std</th>\n",
       "    </tr>\n",
       "  </thead>\n",
       "  <tbody>\n",
       "    <tr>\n",
       "      <th>0</th>\n",
       "      <td>0.00</td>\n",
       "      <td>0.0700</td>\n",
       "      <td>0.169274</td>\n",
       "    </tr>\n",
       "    <tr>\n",
       "      <th>1</th>\n",
       "      <td>0.05</td>\n",
       "      <td>0.0735</td>\n",
       "      <td>0.162383</td>\n",
       "    </tr>\n",
       "    <tr>\n",
       "      <th>2</th>\n",
       "      <td>0.10</td>\n",
       "      <td>0.0770</td>\n",
       "      <td>0.158257</td>\n",
       "    </tr>\n",
       "    <tr>\n",
       "      <th>3</th>\n",
       "      <td>0.15</td>\n",
       "      <td>0.0805</td>\n",
       "      <td>0.157114</td>\n",
       "    </tr>\n",
       "    <tr>\n",
       "      <th>4</th>\n",
       "      <td>0.20</td>\n",
       "      <td>0.0840</td>\n",
       "      <td>0.159018</td>\n",
       "    </tr>\n",
       "    <tr>\n",
       "      <th>5</th>\n",
       "      <td>0.25</td>\n",
       "      <td>0.0875</td>\n",
       "      <td>0.163863</td>\n",
       "    </tr>\n",
       "    <tr>\n",
       "      <th>6</th>\n",
       "      <td>0.30</td>\n",
       "      <td>0.0910</td>\n",
       "      <td>0.171399</td>\n",
       "    </tr>\n",
       "    <tr>\n",
       "      <th>7</th>\n",
       "      <td>0.35</td>\n",
       "      <td>0.0945</td>\n",
       "      <td>0.181292</td>\n",
       "    </tr>\n",
       "    <tr>\n",
       "      <th>8</th>\n",
       "      <td>0.40</td>\n",
       "      <td>0.0980</td>\n",
       "      <td>0.193180</td>\n",
       "    </tr>\n",
       "    <tr>\n",
       "      <th>9</th>\n",
       "      <td>0.45</td>\n",
       "      <td>0.1015</td>\n",
       "      <td>0.206719</td>\n",
       "    </tr>\n",
       "    <tr>\n",
       "      <th>10</th>\n",
       "      <td>0.50</td>\n",
       "      <td>0.1050</td>\n",
       "      <td>0.221606</td>\n",
       "    </tr>\n",
       "    <tr>\n",
       "      <th>11</th>\n",
       "      <td>0.55</td>\n",
       "      <td>0.1085</td>\n",
       "      <td>0.237589</td>\n",
       "    </tr>\n",
       "    <tr>\n",
       "      <th>12</th>\n",
       "      <td>0.60</td>\n",
       "      <td>0.1120</td>\n",
       "      <td>0.254460</td>\n",
       "    </tr>\n",
       "    <tr>\n",
       "      <th>13</th>\n",
       "      <td>0.65</td>\n",
       "      <td>0.1155</td>\n",
       "      <td>0.272055</td>\n",
       "    </tr>\n",
       "    <tr>\n",
       "      <th>14</th>\n",
       "      <td>0.70</td>\n",
       "      <td>0.1190</td>\n",
       "      <td>0.290241</td>\n",
       "    </tr>\n",
       "    <tr>\n",
       "      <th>15</th>\n",
       "      <td>0.75</td>\n",
       "      <td>0.1225</td>\n",
       "      <td>0.308916</td>\n",
       "    </tr>\n",
       "    <tr>\n",
       "      <th>16</th>\n",
       "      <td>0.80</td>\n",
       "      <td>0.1260</td>\n",
       "      <td>0.327994</td>\n",
       "    </tr>\n",
       "    <tr>\n",
       "      <th>17</th>\n",
       "      <td>0.85</td>\n",
       "      <td>0.1295</td>\n",
       "      <td>0.347410</td>\n",
       "    </tr>\n",
       "    <tr>\n",
       "      <th>18</th>\n",
       "      <td>0.90</td>\n",
       "      <td>0.1330</td>\n",
       "      <td>0.367110</td>\n",
       "    </tr>\n",
       "    <tr>\n",
       "      <th>19</th>\n",
       "      <td>0.95</td>\n",
       "      <td>0.1365</td>\n",
       "      <td>0.387051</td>\n",
       "    </tr>\n",
       "    <tr>\n",
       "      <th>20</th>\n",
       "      <td>1.00</td>\n",
       "      <td>0.1400</td>\n",
       "      <td>0.407197</td>\n",
       "    </tr>\n",
       "  </tbody>\n",
       "</table>\n",
       "</div>"
      ],
      "text/plain": [
       "    weight_aapl  exp_ret       std\n",
       "0          0.00   0.0700  0.169274\n",
       "1          0.05   0.0735  0.162383\n",
       "2          0.10   0.0770  0.158257\n",
       "3          0.15   0.0805  0.157114\n",
       "4          0.20   0.0840  0.159018\n",
       "5          0.25   0.0875  0.163863\n",
       "6          0.30   0.0910  0.171399\n",
       "7          0.35   0.0945  0.181292\n",
       "8          0.40   0.0980  0.193180\n",
       "9          0.45   0.1015  0.206719\n",
       "10         0.50   0.1050  0.221606\n",
       "11         0.55   0.1085  0.237589\n",
       "12         0.60   0.1120  0.254460\n",
       "13         0.65   0.1155  0.272055\n",
       "14         0.70   0.1190  0.290241\n",
       "15         0.75   0.1225  0.308916\n",
       "16         0.80   0.1260  0.327994\n",
       "17         0.85   0.1295  0.347410\n",
       "18         0.90   0.1330  0.367110\n",
       "19         0.95   0.1365  0.387051\n",
       "20         1.00   0.1400  0.407197"
      ]
     },
     "execution_count": 10,
     "metadata": {},
     "output_type": "execute_result"
    }
   ],
   "source": [
    "# Repeat with difference weights\n",
    "# e.g. weights of 0%, 5%, 10%, 155, ... 100%\n",
    "df_effic = pd.DataFrame({'weight_aapl':np.zeros(21), 'exp_ret': np.zeros(21), 'std': np.zeros(21)})\n",
    "\n",
    "w_aapl = 0.0\n",
    "for weight in range(21):\n",
    "    df_effic['weight_aapl'][weight] = w_aapl\n",
    "    df_effic['exp_ret'][weight] = w_aapl * exp_aapl + (1-w_aapl) * exp_gld\n",
    "    df_effic['std'][weight] = np.sqrt(var_aapl * w_aapl ** 2 + var_gld * (1-w_aapl) ** 2 + cov * w_aapl * (1 - w_aapl))\n",
    "    w_aapl = w_aapl + .05\n",
    "\n",
    "df_effic"
   ]
  },
  {
   "cell_type": "code",
   "execution_count": 11,
   "metadata": {},
   "outputs": [
    {
     "data": {
      "image/png": "[encoded data removed]",
      "text/plain": [
       "<Figure size 576x396 with 1 Axes>"
      ]
     },
     "metadata": {},
     "output_type": "display_data"
    }
   ],
   "source": [
    "with plt.style.context('seaborn'):\n",
    "    plt.scatter(df_effic['std'],df_effic['exp_ret'])"
   ]
  }
 ],
 "metadata": {
  "kernelspec": {
   "display_name": "Python 3",
   "language": "python",
   "name": "python3"
  },
  "language_info": {
   "codemirror_mode": {
    "name": "ipython",
    "version": 3
   },
   "file_extension": ".py",
   "mimetype": "text/x-python",
   "name": "python",
   "nbconvert_exporter": "python",
   "pygments_lexer": "ipython3",
   "version": "3.7.5"
  }
 },
 "nbformat": 4,
 "nbformat_minor": 2
}
